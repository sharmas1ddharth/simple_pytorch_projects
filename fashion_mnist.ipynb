{
  "nbformat": 4,
  "nbformat_minor": 0,
  "metadata": {
    "colab": {
      "provenance": []
    },
    "kernelspec": {
      "name": "python3",
      "display_name": "Python 3"
    },
    "language_info": {
      "name": "python"
    },
    "accelerator": "GPU"
  },
  "cells": [
    {
      "cell_type": "code",
      "execution_count": 1,
      "metadata": {
        "id": "aJLWueZtT21M"
      },
      "outputs": [],
      "source": [
        "import torch\n",
        "from torch import nn\n",
        "from torchvision import datasets\n",
        "from torch.utils.data import DataLoader\n",
        "from torchvision.transforms import ToTensor"
      ]
    },
    {
      "cell_type": "code",
      "source": [
        "# download training data from open datasets\n",
        "training_data = datasets.FashionMNIST(\n",
        "    root=\"data\",\n",
        "    train=True,\n",
        "    download=True,\n",
        "    transform=ToTensor()\n",
        ")\n",
        "\n",
        "# download testing data from open datasets\n",
        "testing_data = datasets.FashionMNIST(\n",
        "    root=\"data\",\n",
        "    train=False,\n",
        "    download=True,\n",
        "    transform=ToTensor()\n",
        ")"
      ],
      "metadata": {
        "id": "VFiXYpEUUL0p"
      },
      "execution_count": 2,
      "outputs": []
    },
    {
      "cell_type": "code",
      "source": [
        "batch_size = 64\n",
        "\n",
        "# create data loaders\n",
        "train_dataloader = DataLoader(training_data, batch_size=batch_size)\n",
        "test_dataloader = DataLoader(testing_data, batch_size=batch_size)\n",
        "\n",
        "for x, y in test_dataloader:\n",
        "  print(x.shape, y.shape)\n",
        "  break"
      ],
      "metadata": {
        "colab": {
          "base_uri": "https://localhost:8080/"
        },
        "id": "cSMJC1t2Umpb",
        "outputId": "ba5e6cc4-949f-4067-cda7-657edfe68a92"
      },
      "execution_count": 3,
      "outputs": [
        {
          "output_type": "stream",
          "name": "stdout",
          "text": [
            "torch.Size([64, 1, 28, 28]) torch.Size([64])\n"
          ]
        }
      ]
    },
    {
      "cell_type": "code",
      "source": [
        "device = \"cuda\" if torch.cuda.is_available() else \"cpu\"\n",
        "\n",
        "# define model\n",
        "\n",
        "class Fashion_model(nn.Module):\n",
        "  def __init__(self):\n",
        "    super(Fashion_model, self).__init__()\n",
        "    self.flatten = nn.Flatten()\n",
        "    self.linear_relu_stack = nn.Sequential(\n",
        "        nn.Linear(28*28, 512),\n",
        "        nn.ReLU(),\n",
        "        nn.Linear(512, 512),\n",
        "        nn.ReLU(),\n",
        "        nn.Linear(512, 10)\n",
        "    )\n",
        "\n",
        "  def forward(self, x):\n",
        "    x = self.flatten(x)\n",
        "    logits = self.linear_relu_stack(x)\n",
        "    return logits"
      ],
      "metadata": {
        "id": "RyhU5rnXUzF_"
      },
      "execution_count": 17,
      "outputs": []
    },
    {
      "cell_type": "code",
      "source": [
        "model = Fashion_model().to(device)\n",
        "print(model)"
      ],
      "metadata": {
        "colab": {
          "base_uri": "https://localhost:8080/"
        },
        "id": "RYME95tdX18h",
        "outputId": "7642c3e8-a431-45c1-bbe9-aa9780986071"
      },
      "execution_count": 18,
      "outputs": [
        {
          "output_type": "stream",
          "name": "stdout",
          "text": [
            "Fashion_model(\n",
            "  (flatten): Flatten(start_dim=1, end_dim=-1)\n",
            "  (linear_relu_stack): Sequential(\n",
            "    (0): Linear(in_features=784, out_features=512, bias=True)\n",
            "    (1): ReLU()\n",
            "    (2): Linear(in_features=512, out_features=512, bias=True)\n",
            "    (3): ReLU()\n",
            "    (4): Linear(in_features=512, out_features=10, bias=True)\n",
            "  )\n",
            ")\n"
          ]
        }
      ]
    },
    {
      "cell_type": "code",
      "source": [
        "loss_fn = nn.CrossEntropyLoss()\n",
        "optimiser = torch.optim.SGD(model.parameters(), lr=0.001)"
      ],
      "metadata": {
        "id": "GgT5cXBAmy8W"
      },
      "execution_count": 19,
      "outputs": []
    },
    {
      "cell_type": "code",
      "source": [
        "# train function\n",
        "\n",
        "def train(dataloader, model, loss_fn, optimiser):\n",
        "  size = len(dataloader.dataset)\n",
        "  model.train()\n",
        "  for batch, (X, y) in enumerate(dataloader):\n",
        "    X, y = X.to(device), y.to(device)\n",
        "\n",
        "    # compute prediction error\n",
        "    pred = model(X)\n",
        "    loss = loss_fn(pred, y)\n",
        "\n",
        "    # backpropagation\n",
        "    optimiser.zero_grad()\n",
        "    loss.backward()\n",
        "    optimiser.step()\n",
        "\n",
        "    if batch % 100 == 0:\n",
        "      loss_, current = loss.item(), batch * len(X)\n",
        "      print(f\"loss: {loss:>7f}  [{current:>5d}/{size:>5d}]\")\n",
        "\n",
        "\n",
        "# test function\n",
        "def test(dataloader, model, loss_fn):\n",
        "  size = len(dataloader.dataset)\n",
        "  number_of_batches = len(dataloader)\n",
        "  model.eval()\n",
        "  test_loss, correct = 0, 0\n",
        "  with torch.no_grad():\n",
        "    for X, y in dataloader:\n",
        "      X, y = X.to(device), y.to(device)\n",
        "      pred = model(X)\n",
        "      test_loss += loss_fn(pred, y).item()\n",
        "      correct += (pred.argmax(1) == y).type(torch.float).sum().item()\n",
        "  \n",
        "  test_loss /= number_of_batches\n",
        "  correct /= size\n",
        "  print(f\"Test Error: \\n Accuracy: {(100*correct):>0.1f}%, Avg loss: {test_loss:>8f} \\n\")\n"
      ],
      "metadata": {
        "id": "u5WeVJxxn40_"
      },
      "execution_count": 20,
      "outputs": []
    },
    {
      "cell_type": "code",
      "source": [
        "epochs = 10\n",
        "for epoch in range(epochs):\n",
        "  print(f\"Epoch: {epoch+1}\")\n",
        "  train(train_dataloader, model, loss_fn, optimiser)\n",
        "  test(test_dataloader, model, loss_fn)"
      ],
      "metadata": {
        "colab": {
          "base_uri": "https://localhost:8080/"
        },
        "id": "tUbTVmcooKa1",
        "outputId": "8b1768a6-6041-40eb-8cc8-86876efa8c66"
      },
      "execution_count": 21,
      "outputs": [
        {
          "output_type": "stream",
          "name": "stdout",
          "text": [
            "Epoch: 1\n",
            "loss: 2.311793  [    0/60000]\n",
            "loss: 2.298703  [ 6400/60000]\n",
            "loss: 2.279654  [12800/60000]\n",
            "loss: 2.265211  [19200/60000]\n",
            "loss: 2.251946  [25600/60000]\n",
            "loss: 2.218106  [32000/60000]\n",
            "loss: 2.232249  [38400/60000]\n",
            "loss: 2.207912  [44800/60000]\n",
            "loss: 2.195555  [51200/60000]\n",
            "loss: 2.156556  [57600/60000]\n",
            "Test Error: \n",
            " Accuracy: 27.8%, Avg loss: 2.159263 \n",
            "\n",
            "Epoch: 2\n",
            "loss: 2.174975  [    0/60000]\n",
            "loss: 2.163758  [ 6400/60000]\n",
            "loss: 2.115661  [12800/60000]\n",
            "loss: 2.120955  [19200/60000]\n",
            "loss: 2.066720  [25600/60000]\n",
            "loss: 2.013967  [32000/60000]\n",
            "loss: 2.036472  [38400/60000]\n",
            "loss: 1.974172  [44800/60000]\n",
            "loss: 1.972194  [51200/60000]\n",
            "loss: 1.895564  [57600/60000]\n",
            "Test Error: \n",
            " Accuracy: 57.2%, Avg loss: 1.900099 \n",
            "\n",
            "Epoch: 3\n",
            "loss: 1.937354  [    0/60000]\n",
            "loss: 1.901482  [ 6400/60000]\n",
            "loss: 1.803087  [12800/60000]\n",
            "loss: 1.826046  [19200/60000]\n",
            "loss: 1.709236  [25600/60000]\n",
            "loss: 1.677486  [32000/60000]\n",
            "loss: 1.683747  [38400/60000]\n",
            "loss: 1.605413  [44800/60000]\n",
            "loss: 1.620637  [51200/60000]\n",
            "loss: 1.512926  [57600/60000]\n",
            "Test Error: \n",
            " Accuracy: 60.3%, Avg loss: 1.535305 \n",
            "\n",
            "Epoch: 4\n",
            "loss: 1.609954  [    0/60000]\n",
            "loss: 1.563112  [ 6400/60000]\n",
            "loss: 1.431568  [12800/60000]\n",
            "loss: 1.478339  [19200/60000]\n",
            "loss: 1.359689  [25600/60000]\n",
            "loss: 1.371332  [32000/60000]\n",
            "loss: 1.366724  [38400/60000]\n",
            "loss: 1.311978  [44800/60000]\n",
            "loss: 1.334635  [51200/60000]\n",
            "loss: 1.238195  [57600/60000]\n",
            "Test Error: \n",
            " Accuracy: 63.0%, Avg loss: 1.263757 \n",
            "\n",
            "Epoch: 5\n",
            "loss: 1.351702  [    0/60000]\n",
            "loss: 1.319802  [ 6400/60000]\n",
            "loss: 1.168488  [12800/60000]\n",
            "loss: 1.249800  [19200/60000]\n",
            "loss: 1.126522  [25600/60000]\n",
            "loss: 1.164508  [32000/60000]\n",
            "loss: 1.167794  [38400/60000]\n",
            "loss: 1.126385  [44800/60000]\n",
            "loss: 1.151612  [51200/60000]\n",
            "loss: 1.076044  [57600/60000]\n",
            "Test Error: \n",
            " Accuracy: 64.5%, Avg loss: 1.093304 \n",
            "\n",
            "Epoch: 6\n",
            "loss: 1.175863  [    0/60000]\n",
            "loss: 1.164603  [ 6400/60000]\n",
            "loss: 0.994632  [12800/60000]\n",
            "loss: 1.108619  [19200/60000]\n",
            "loss: 0.981343  [25600/60000]\n",
            "loss: 1.026233  [32000/60000]\n",
            "loss: 1.044793  [38400/60000]\n",
            "loss: 1.009754  [44800/60000]\n",
            "loss: 1.032171  [51200/60000]\n",
            "loss: 0.975533  [57600/60000]\n",
            "Test Error: \n",
            " Accuracy: 65.8%, Avg loss: 0.984119 \n",
            "\n",
            "Epoch: 7\n",
            "loss: 1.054252  [    0/60000]\n",
            "loss: 1.064429  [ 6400/60000]\n",
            "loss: 0.877013  [12800/60000]\n",
            "loss: 1.016248  [19200/60000]\n",
            "loss: 0.890151  [25600/60000]\n",
            "loss: 0.930890  [32000/60000]\n",
            "loss: 0.964952  [38400/60000]\n",
            "loss: 0.935382  [44800/60000]\n",
            "loss: 0.950347  [51200/60000]\n",
            "loss: 0.909152  [57600/60000]\n",
            "Test Error: \n",
            " Accuracy: 67.1%, Avg loss: 0.910759 \n",
            "\n",
            "Epoch: 8\n",
            "loss: 0.965722  [    0/60000]\n",
            "loss: 0.995705  [ 6400/60000]\n",
            "loss: 0.794128  [12800/60000]\n",
            "loss: 0.952068  [19200/60000]\n",
            "loss: 0.829804  [25600/60000]\n",
            "loss: 0.862601  [32000/60000]\n",
            "loss: 0.909385  [38400/60000]\n",
            "loss: 0.886133  [44800/60000]\n",
            "loss: 0.891931  [51200/60000]\n",
            "loss: 0.862104  [57600/60000]\n",
            "Test Error: \n",
            " Accuracy: 68.3%, Avg loss: 0.858651 \n",
            "\n",
            "Epoch: 9\n",
            "loss: 0.898304  [    0/60000]\n",
            "loss: 0.944733  [ 6400/60000]\n",
            "loss: 0.732717  [12800/60000]\n",
            "loss: 0.904933  [19200/60000]\n",
            "loss: 0.787173  [25600/60000]\n",
            "loss: 0.811919  [32000/60000]\n",
            "loss: 0.867739  [38400/60000]\n",
            "loss: 0.851786  [44800/60000]\n",
            "loss: 0.848430  [51200/60000]\n",
            "loss: 0.826448  [57600/60000]\n",
            "Test Error: \n",
            " Accuracy: 69.6%, Avg loss: 0.819630 \n",
            "\n",
            "Epoch: 10\n",
            "loss: 0.844806  [    0/60000]\n",
            "loss: 0.904419  [ 6400/60000]\n",
            "loss: 0.685103  [12800/60000]\n",
            "loss: 0.868666  [19200/60000]\n",
            "loss: 0.755400  [25600/60000]\n",
            "loss: 0.773389  [32000/60000]\n",
            "loss: 0.834620  [38400/60000]\n",
            "loss: 0.826381  [44800/60000]\n",
            "loss: 0.814672  [51200/60000]\n",
            "loss: 0.797908  [57600/60000]\n",
            "Test Error: \n",
            " Accuracy: 71.1%, Avg loss: 0.788899 \n",
            "\n"
          ]
        }
      ]
    },
    {
      "cell_type": "code",
      "source": [
        "# save model\n",
        "torch.save(model.state_dict(), \"model.pth\")\n"
      ],
      "metadata": {
        "id": "RpI8yLSWoKr1"
      },
      "execution_count": 22,
      "outputs": []
    },
    {
      "cell_type": "code",
      "source": [
        "# prediction\n",
        "\n",
        "classes = [\n",
        "    \"T-shirt/top\",\n",
        "    \"Trouser\",\n",
        "    \"Pullover\",\n",
        "    \"Dress\",\n",
        "    \"Coat\",\n",
        "    \"Sandal\",\n",
        "    \"Shirt\",\n",
        "    \"Sneaker\",\n",
        "    \"Bag\",\n",
        "    \"Ankle boot\",\n",
        "]\n",
        "\n",
        "model.eval()\n",
        "x, y = testing_data[1][0], testing_data[1][1]\n",
        "x = x.to(device)\n",
        "with torch.no_grad():\n",
        "  pred = model(x)\n",
        "  predicted, actual = classes[pred[0].argmax(0)], classes[y]\n",
        "  print(f\"Predicted:{predicted}, Actual:{actual}\")"
      ],
      "metadata": {
        "id": "KZ34vwuzuCcF",
        "colab": {
          "base_uri": "https://localhost:8080/"
        },
        "outputId": "1f9f4264-16b3-4352-e9b2-6c6a8c6562a8"
      },
      "execution_count": 23,
      "outputs": [
        {
          "output_type": "stream",
          "name": "stdout",
          "text": [
            "Predicted:Pullover, Actual:Pullover\n"
          ]
        }
      ]
    },
    {
      "cell_type": "code",
      "source": [],
      "metadata": {
        "id": "0O_y-UV38M1J"
      },
      "execution_count": 11,
      "outputs": []
    }
  ]
}